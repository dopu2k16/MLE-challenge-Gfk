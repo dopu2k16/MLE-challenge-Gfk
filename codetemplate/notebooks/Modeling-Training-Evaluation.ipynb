{
 "cells": [
  {
   "cell_type": "code",
   "execution_count": 1,
   "id": "80e4e5dc",
   "metadata": {},
   "outputs": [],
   "source": [
    "import os\n",
    "import numpy as np\n",
    "import pandas as pd\n",
    "import seaborn as sns\n",
    "import matplotlib.pyplot as plt"
   ]
  },
  {
   "cell_type": "code",
   "execution_count": 3,
   "id": "549d623c",
   "metadata": {},
   "outputs": [],
   "source": [
    "def load_data(filename, delimiter):\n",
    "    \"\"\"\n",
    "    Loads the data from csv file to a dataframe.\n",
    "    \"\"\"\n",
    "    if os.path.isfile(filename):\n",
    "        df = pd.read_csv(filename, delimiter=delimiter)\n",
    "        return df\n",
    "    else:\n",
    "        print(\"File not found\")\n",
    "        return None\n"
   ]
  },
  {
   "cell_type": "code",
   "execution_count": 4,
   "id": "bd035b5e",
   "metadata": {},
   "outputs": [],
   "source": [
    "df = load_data('../../data/testset_C.csv', ';')"
   ]
  },
  {
   "cell_type": "markdown",
   "id": "99b4c3da",
   "metadata": {},
   "source": [
    "### Modeling and experiments (single model)"
   ]
  },
  {
   "cell_type": "markdown",
   "id": "a8015b89",
   "metadata": {},
   "source": [
    "We considered the Product Category prediction problem as a multiclass text classiication problem. \n",
    "\n",
    "Initially for data preprocessing, we split the given dataset into training and test datasets. We considered 'productgroup' as target feature for classification whereas the rest of the features were used as a combination of training features such as 'merged_text feature was created by merging the 'main_text' and 'add_text' features. We applied TF-IDF vectorization to the textual features to numerize them. \n",
    "\n",
    "For model building, we built Logistic Regression, Decision Tree, Random Forest, Perceptron, Multi-layer Perceptron, and Gradient Boosting models to classify a given text into its category.\n",
    "\n",
    "For model evaluation, we performed Repeated Stratified 10 fold cross validation on the training set to see whether the model overfits or not by comparing the training and validation accuracy. Repeated Stratified K-Folds technique repeats Stratified K-Fold sets n times with different randomization in each repetition. StratifiedKFold is a variation of k-fold which returns stratified folds where each set contains approximately the same percentage of samples of each target class as the complete set. For test set evaluation, we measured the test accuracy, test precision, recall, and test F1-score of each models respectively. We also plot the confusion matrix for each ml model implemented to solve the problem."
   ]
  },
  {
   "cell_type": "markdown",
   "id": "6708ae36",
   "metadata": {},
   "source": [
    "At first, we just do step-by-step modeling, training, and evalaution for a single model on the 'merged_text' field. Later, we automate the pipeline to run for various models by defining methods for data preprocessing, modelling, training, evaluation, and testing."
   ]
  },
  {
   "cell_type": "code",
   "execution_count": 5,
   "id": "b72122b3",
   "metadata": {},
   "outputs": [],
   "source": [
    "from sklearn.naive_bayes import MultinomialNB\n",
    "from sklearn.pipeline import Pipeline\n",
    "from sklearn import metrics\n",
    "from sklearn.feature_extraction.text import CountVectorizer, TfidfVectorizer\n",
    "from sklearn.feature_extraction.text import TfidfTransformer\n"
   ]
  },
  {
   "cell_type": "code",
   "execution_count": 6,
   "id": "ca57327a",
   "metadata": {},
   "outputs": [
    {
     "name": "stdout",
     "output_type": "stream",
     "text": [
      "Shape of the dataset (8000, 5)\n"
     ]
    }
   ],
   "source": [
    "print('Shape of the dataset', df.shape)"
   ]
  },
  {
   "cell_type": "code",
   "execution_count": 7,
   "id": "eb1fea26",
   "metadata": {},
   "outputs": [
    {
     "name": "stdout",
     "output_type": "stream",
     "text": [
      "Shape of the dataframe after dropping NaN values (6655, 5)\n"
     ]
    }
   ],
   "source": [
    "# dropping NaN values from the dataframe\n",
    "df = df.dropna()\n",
    "print('Shape of the dataframe after dropping NaN values', df.shape)"
   ]
  },
  {
   "cell_type": "code",
   "execution_count": 8,
   "id": "dae8fc05",
   "metadata": {},
   "outputs": [],
   "source": [
    "# merging the text features into one 'merged_text'\n",
    "df['merged_text'] = df[['main_text', 'add_text', 'manufacturer']].apply(lambda x: ' '.join(x), axis=1)"
   ]
  },
  {
   "cell_type": "code",
   "execution_count": 9,
   "id": "1bed1ead",
   "metadata": {},
   "outputs": [],
   "source": [
    "from sklearn.compose import make_column_transformer\n",
    "# considering the 'merged_text' as an input feature which is a combination of main_text, add_text, and manufacturer\n",
    "vect = TfidfVectorizer()\n",
    "transformer = make_column_transformer((vect, 'merged_text'))\n",
    "# transformer = make_column_transformer((vect, 'main_text'), (vect, 'add_text'), (vect, 'manufacturer'))"
   ]
  },
  {
   "cell_type": "code",
   "execution_count": 10,
   "id": "89c05ce3",
   "metadata": {},
   "outputs": [],
   "source": [
    "from sklearn.pipeline import make_pipeline\n",
    "from sklearn.model_selection import cross_val_score"
   ]
  },
  {
   "cell_type": "code",
   "execution_count": 11,
   "id": "3a69b0b2",
   "metadata": {},
   "outputs": [],
   "source": [
    "# defining the single classifier model and pipelining the tranformation of the input features\n",
    "clf = MultinomialNB(alpha=.01)\n",
    "pipe = make_pipeline(transformer, clf)"
   ]
  },
  {
   "cell_type": "code",
   "execution_count": 12,
   "id": "cce71694",
   "metadata": {},
   "outputs": [
    {
     "data": {
      "text/plain": [
       "Pipeline(steps=[('columntransformer',\n",
       "                 ColumnTransformer(transformers=[('tfidfvectorizer',\n",
       "                                                  TfidfVectorizer(),\n",
       "                                                  'merged_text')])),\n",
       "                ('multinomialnb', MultinomialNB(alpha=0.01))])"
      ]
     },
     "execution_count": 12,
     "metadata": {},
     "output_type": "execute_result"
    }
   ],
   "source": [
    "# pipeline module used for preprocessing and training simultaneously\n",
    "pipe"
   ]
  },
  {
   "cell_type": "code",
   "execution_count": 13,
   "id": "8400b3f9",
   "metadata": {},
   "outputs": [],
   "source": [
    "# Defining the feature columns for training \n",
    "#feature_cols = ['main_text', 'add_text', 'manufacturer']\n",
    "feature_cols = ['merged_text']\n",
    "\n",
    "X = df[feature_cols]\n",
    "y = df['productgroup']"
   ]
  },
  {
   "cell_type": "code",
   "execution_count": 14,
   "id": "b7136016",
   "metadata": {},
   "outputs": [
    {
     "name": "stdout",
     "output_type": "stream",
     "text": [
      "(6655, 1)\n",
      "(6655,)\n"
     ]
    }
   ],
   "source": [
    "# Shape of the input feature matrix for training\n",
    "print(X.shape)\n",
    "print(y.shape)"
   ]
  },
  {
   "cell_type": "code",
   "execution_count": 15,
   "id": "2b8e1f5e",
   "metadata": {},
   "outputs": [],
   "source": [
    "# Splitting the dataset into training and test sets\n",
    "from sklearn.model_selection import train_test_split\n",
    "X_train, X_test, y_train, y_test = train_test_split(X, y, test_size=0.2, random_state=0)"
   ]
  },
  {
   "cell_type": "code",
   "execution_count": 16,
   "id": "5e4565fb",
   "metadata": {},
   "outputs": [
    {
     "name": "stdout",
     "output_type": "stream",
     "text": [
      "(5324, 1)\n",
      "(1331, 1)\n",
      "(5324,)\n",
      "(1331,)\n"
     ]
    }
   ],
   "source": [
    "# Shape of the training and test set\n",
    "print(X_train.shape)\n",
    "print(X_test.shape)\n",
    "print(y_train.shape)\n",
    "print(y_test.shape)"
   ]
  },
  {
   "cell_type": "code",
   "execution_count": 17,
   "id": "41549511",
   "metadata": {},
   "outputs": [
    {
     "data": {
      "text/html": [
       "<div>\n",
       "<style scoped>\n",
       "    .dataframe tbody tr th:only-of-type {\n",
       "        vertical-align: middle;\n",
       "    }\n",
       "\n",
       "    .dataframe tbody tr th {\n",
       "        vertical-align: top;\n",
       "    }\n",
       "\n",
       "    .dataframe thead th {\n",
       "        text-align: right;\n",
       "    }\n",
       "</style>\n",
       "<table border=\"1\" class=\"dataframe\">\n",
       "  <thead>\n",
       "    <tr style=\"text-align: right;\">\n",
       "      <th></th>\n",
       "      <th>merged_text</th>\n",
       "    </tr>\n",
       "  </thead>\n",
       "  <tbody>\n",
       "    <tr>\n",
       "      <th>4456</th>\n",
       "      <td>ACUVUE OASYS FOR ASTIGMATISM6 STÜCKUNISEX LINS...</td>\n",
       "    </tr>\n",
       "    <tr>\n",
       "      <th>3404</th>\n",
       "      <td>WASCHVOLLAUTOMAT OMV510A+ OMV510A+|| EEK:A+, 1...</td>\n",
       "    </tr>\n",
       "    <tr>\n",
       "      <th>858</th>\n",
       "      <td>KINGSTON DATATRAVELER MICRO 3.1 64GB - USB-STI...</td>\n",
       "    </tr>\n",
       "    <tr>\n",
       "      <th>4265</th>\n",
       "      <td>AIR OPTIX FOR ASTIGM.6 STÜCKUNISEX LINSEN CIBA</td>\n",
       "    </tr>\n",
       "    <tr>\n",
       "      <th>3041</th>\n",
       "      <td>DATATRAVELERMICRODUO/64GB MICRO USB3 OTG PERIP...</td>\n",
       "    </tr>\n",
       "  </tbody>\n",
       "</table>\n",
       "</div>"
      ],
      "text/plain": [
       "                                            merged_text\n",
       "4456  ACUVUE OASYS FOR ASTIGMATISM6 STÜCKUNISEX LINS...\n",
       "3404  WASCHVOLLAUTOMAT OMV510A+ OMV510A+|| EEK:A+, 1...\n",
       "858   KINGSTON DATATRAVELER MICRO 3.1 64GB - USB-STI...\n",
       "4265     AIR OPTIX FOR ASTIGM.6 STÜCKUNISEX LINSEN CIBA\n",
       "3041  DATATRAVELERMICRODUO/64GB MICRO USB3 OTG PERIP..."
      ]
     },
     "execution_count": 17,
     "metadata": {},
     "output_type": "execute_result"
    }
   ],
   "source": [
    "# test dataset\n",
    "X_test.head()"
   ]
  },
  {
   "cell_type": "code",
   "execution_count": 18,
   "id": "6945993c",
   "metadata": {},
   "outputs": [
    {
     "data": {
      "text/plain": [
       "Pipeline(steps=[('columntransformer',\n",
       "                 ColumnTransformer(transformers=[('tfidfvectorizer',\n",
       "                                                  TfidfVectorizer(),\n",
       "                                                  'merged_text')])),\n",
       "                ('multinomialnb', MultinomialNB(alpha=0.01))])"
      ]
     },
     "execution_count": 18,
     "metadata": {},
     "output_type": "execute_result"
    }
   ],
   "source": [
    "# fitting the model on the training data\n",
    "pipe.fit(X_train, y_train)"
   ]
  },
  {
   "cell_type": "code",
   "execution_count": 19,
   "id": "7eae9d0d",
   "metadata": {},
   "outputs": [
    {
     "data": {
      "text/plain": [
       "0.999060855703988"
      ]
     },
     "execution_count": 19,
     "metadata": {},
     "output_type": "execute_result"
    }
   ],
   "source": [
    "# with only merged_text\n",
    "cross_val_score(pipe, X_train, y_train, cv=10, scoring='accuracy').mean()"
   ]
  },
  {
   "cell_type": "code",
   "execution_count": 20,
   "id": "ccd964dc",
   "metadata": {},
   "outputs": [],
   "source": [
    "from sklearn.model_selection import RepeatedStratifiedKFold, cross_validate\n",
    "cv = RepeatedStratifiedKFold(n_splits=10, n_repeats=3, random_state=1)\n",
    "scores = cross_validate(pipe, X_train, y_train, scoring=('accuracy', 'f1_weighted'),\n",
    "                            cv=cv, n_jobs=-1, return_train_score=True)"
   ]
  },
  {
   "cell_type": "code",
   "execution_count": 21,
   "id": "88dda0a2",
   "metadata": {},
   "outputs": [
    {
     "data": {
      "text/plain": [
       "{'fit_time': array([0.32042909, 0.25716472, 0.27864575, 0.26173878, 0.24724412,\n",
       "        0.25602722, 0.36150479, 0.40358901, 0.2651732 , 0.24730301,\n",
       "        0.23954678, 0.25264359, 0.28212881, 0.27344847, 0.24409652,\n",
       "        0.2607367 , 0.37559271, 0.35077119, 0.32500339, 0.36702561,\n",
       "        0.27525067, 0.2803731 , 0.2515471 , 0.23496032, 0.26190591,\n",
       "        0.17267823, 0.2481792 , 0.18242931, 0.23667407, 0.23267269]),\n",
       " 'score_time': array([0.03221822, 0.0318954 , 0.03506756, 0.03736877, 0.03377151,\n",
       "        0.03420758, 0.03511453, 0.04764557, 0.03283834, 0.03261113,\n",
       "        0.03006768, 0.03595233, 0.03578496, 0.03981495, 0.04020095,\n",
       "        0.10253024, 0.04585648, 0.03869629, 0.0341773 , 0.04162335,\n",
       "        0.03353643, 0.03443217, 0.03303909, 0.03179288, 0.0316534 ,\n",
       "        0.02189016, 0.03185272, 0.0241003 , 0.0318923 , 0.03225517]),\n",
       " 'test_accuracy': array([0.99812383, 1.        , 1.        , 0.99812383, 1.        ,\n",
       "        1.        , 1.        , 1.        , 1.        , 0.9962406 ,\n",
       "        1.        , 0.99812383, 1.        , 1.        , 0.9981203 ,\n",
       "        1.        , 1.        , 1.        , 1.        , 0.9981203 ,\n",
       "        1.        , 1.        , 1.        , 0.99812383, 1.        ,\n",
       "        1.        , 0.9981203 , 0.9981203 , 1.        , 1.        ]),\n",
       " 'train_accuracy': array([1., 1., 1., 1., 1., 1., 1., 1., 1., 1., 1., 1., 1., 1., 1., 1., 1.,\n",
       "        1., 1., 1., 1., 1., 1., 1., 1., 1., 1., 1., 1., 1.]),\n",
       " 'test_f1_weighted': array([0.99812415, 1.        , 1.        , 0.99812394, 1.        ,\n",
       "        1.        , 1.        , 1.        , 1.        , 0.99623279,\n",
       "        1.        , 0.99812354, 1.        , 1.        , 0.99812063,\n",
       "        1.        , 1.        , 1.        , 1.        , 0.99812042,\n",
       "        1.        , 1.        , 1.        , 0.99812413, 1.        ,\n",
       "        1.        , 0.99812042, 0.99812002, 1.        , 1.        ]),\n",
       " 'train_f1_weighted': array([1., 1., 1., 1., 1., 1., 1., 1., 1., 1., 1., 1., 1., 1., 1., 1., 1.,\n",
       "        1., 1., 1., 1., 1., 1., 1., 1., 1., 1., 1., 1., 1.])}"
      ]
     },
     "execution_count": 21,
     "metadata": {},
     "output_type": "execute_result"
    }
   ],
   "source": [
    "# with only merged_text\n",
    "scores"
   ]
  },
  {
   "cell_type": "markdown",
   "id": "efbb93f9",
   "metadata": {},
   "source": [
    "#### Testing"
   ]
  },
  {
   "cell_type": "code",
   "execution_count": 22,
   "id": "6e386eaa",
   "metadata": {},
   "outputs": [],
   "source": [
    "from sklearn.metrics import precision_recall_fscore_support\n",
    "y_test_pred = pipe.predict(X_test)\n",
    "test_acc = metrics.accuracy_score(y_test_pred, y_test)\n",
    "test_p, test_r, test_f1, _ = precision_recall_fscore_support(y_test, y_test_pred, average='weighted')"
   ]
  },
  {
   "cell_type": "code",
   "execution_count": 23,
   "id": "8f5e2e31",
   "metadata": {},
   "outputs": [
    {
     "name": "stdout",
     "output_type": "stream",
     "text": [
      "['CONTACT LENSES' 'WASHINGMACHINES' 'USB MEMORY' ... 'WASHINGMACHINES'\n",
      " 'BICYCLES' 'USB MEMORY']\n",
      "4456     CONTACT LENSES\n",
      "3404    WASHINGMACHINES\n",
      "858          USB MEMORY\n",
      "4265     CONTACT LENSES\n",
      "3041         USB MEMORY\n",
      "             ...       \n",
      "283          USB MEMORY\n",
      "7743    WASHINGMACHINES\n",
      "5246    WASHINGMACHINES\n",
      "3506           BICYCLES\n",
      "6502         USB MEMORY\n",
      "Name: productgroup, Length: 1331, dtype: object\n"
     ]
    }
   ],
   "source": [
    "print(y_test_pred)\n",
    "print(y_test)"
   ]
  },
  {
   "cell_type": "code",
   "execution_count": 24,
   "id": "9d946506",
   "metadata": {},
   "outputs": [
    {
     "name": "stdout",
     "output_type": "stream",
     "text": [
      "Test Accuracy 1.0\n",
      "Test Precision 1.0\n",
      "Test Recall 1.0\n",
      "Test F1 1.0\n"
     ]
    }
   ],
   "source": [
    "# with only 'merged_text'\n",
    "print(\"Test Accuracy\", test_acc)\n",
    "print(\"Test Precision\", test_p)\n",
    "print(\"Test Recall\", test_r)\n",
    "print(\"Test F1\", test_f1)"
   ]
  },
  {
   "cell_type": "code",
   "execution_count": 25,
   "id": "6a4ab512",
   "metadata": {},
   "outputs": [
    {
     "name": "stdout",
     "output_type": "stream",
     "text": [
      "                 precision    recall  f1-score   support\n",
      "\n",
      "       BICYCLES       1.00      1.00      1.00       321\n",
      " CONTACT LENSES       1.00      1.00      1.00       364\n",
      "     USB MEMORY       1.00      1.00      1.00       350\n",
      "WASHINGMACHINES       1.00      1.00      1.00       296\n",
      "\n",
      "       accuracy                           1.00      1331\n",
      "      macro avg       1.00      1.00      1.00      1331\n",
      "   weighted avg       1.00      1.00      1.00      1331\n",
      "\n"
     ]
    }
   ],
   "source": [
    "print(metrics.classification_report(y_test, y_test_pred))"
   ]
  },
  {
   "cell_type": "code",
   "execution_count": 26,
   "id": "0e175c85",
   "metadata": {},
   "outputs": [
    {
     "name": "stdout",
     "output_type": "stream",
     "text": [
      "['USB MEMORY']\n"
     ]
    }
   ],
   "source": [
    "new_text = '8GB 2.0 RED '\n",
    "df_test_on_go = pd.DataFrame({'merged_text': new_text}, index=[0])\n",
    "print(pipe.predict(df_test_on_go))"
   ]
  },
  {
   "cell_type": "code",
   "execution_count": 27,
   "id": "28d9785f",
   "metadata": {},
   "outputs": [],
   "source": [
    "from sklearn.preprocessing import LabelEncoder\n",
    "# encoding the target variable\n",
    "def encode_targets(y_train, y_test):\n",
    "    le = LabelEncoder()\n",
    "    le.fit(y_train)\n",
    "    y_train_enc = le.transform(y_train)\n",
    "    y_test_enc = le.transform(y_test)\n",
    "    \n",
    "    return y_train_enc, y_test_enc"
   ]
  },
  {
   "cell_type": "markdown",
   "id": "d3ad6f3a",
   "metadata": {},
   "source": [
    "## Modeling, training, evaluation and pipeling the experiments for various classification models"
   ]
  },
  {
   "cell_type": "markdown",
   "id": "2ee6f7f3",
   "metadata": {},
   "source": [
    "### Data Preprocessing for training"
   ]
  },
  {
   "cell_type": "code",
   "execution_count": 28,
   "id": "6c91eb5c",
   "metadata": {},
   "outputs": [],
   "source": [
    "from sklearn.model_selection import train_test_split\n",
    "def preprocess_dataset(input_data):\n",
    "    \"\"\" The preprocessing selects the relevant data.\n",
    "\n",
    "    :param input_data: Input data\n",
    "    :return X: Transformed data containing the training data.\n",
    "    :rtype: .... \"\"\"\n",
    "    \n",
    "    feature_cols = ['merged_text']\n",
    "    input_data = input_data[['productgroup', 'main_text', 'add_text']].dropna()\n",
    "    input_data['merged_text'] = input_data[['main_text', 'add_text']].apply(lambda x: ' '.join(x), axis=1)\n",
    "    print(input_data.columns)\n",
    "    print(\"Input dataframe shape\", input_data.shape)\n",
    "\n",
    "    X = input_data[feature_cols]\n",
    "    # Putting response variable to y\n",
    "    y = input_data['productgroup']\n",
    "    # Splitting the data into train and test\n",
    "    X_train, X_test, y_train, y_test = train_test_split(X, y, train_size=0.8,\n",
    "                                                        test_size=0.2, random_state=100)\n",
    "\n",
    "    return X_train, y_train, X_test, y_test"
   ]
  },
  {
   "cell_type": "code",
   "execution_count": 29,
   "id": "f5ae4ca4",
   "metadata": {},
   "outputs": [],
   "source": [
    "def transform_data():\n",
    "    \"\"\"\n",
    "    Transforming into TF-IDF vectorization of the input data\n",
    "    \"\"\"\n",
    "    vect = TfidfVectorizer()\n",
    "    transformer = make_column_transformer((vect, 'merged_text'))\n",
    "    return vect, transformer"
   ]
  },
  {
   "cell_type": "markdown",
   "id": "10d79a18",
   "metadata": {},
   "source": [
    "### Modeling"
   ]
  },
  {
   "cell_type": "code",
   "execution_count": 30,
   "id": "739981fc",
   "metadata": {},
   "outputs": [],
   "source": [
    "from sklearn.ensemble import RandomForestClassifier, GradientBoostingClassifier\n",
    "from sklearn.feature_selection import RFE\n",
    "from sklearn.linear_model import LogisticRegression, Perceptron, PoissonRegressor\n",
    "from sklearn.neural_network import MLPClassifier\n",
    "from sklearn.pipeline import Pipeline\n",
    "from sklearn.tree import DecisionTreeClassifier\n",
    "from sklearn.naive_bayes import MultinomialNB\n",
    "from sklearn.compose import make_column_transformer\n",
    "from sklearn.feature_extraction.text import TfidfVectorizer\n",
    "\n",
    "def get_ml_models():\n",
    "    \"\"\"\n",
    "    ML model to be trained.\n",
    "    \"\"\"\n",
    "    models = dict()\n",
    "    vect, transformer = transform_data()\n",
    "    # Logistic regression\n",
    "    model = LogisticRegression()\n",
    "    models['LR'] = Pipeline(steps=[('feature_transform', transformer), ('m', model)])\n",
    "\n",
    "    # Multinomial Naive Bayes\n",
    "    model = MultinomialNB(alpha=.01)\n",
    "    models['MultiNaiveBayes'] = Pipeline(steps=[('feature_transform', transformer), ('m', model)])\n",
    "\n",
    "    # Perceptron\n",
    "    model = Perceptron()\n",
    "    models['Perceptron'] = Pipeline(steps=[('feature_transform', transformer), ('m', model)])\n",
    "\n",
    "    # Decision Tree\n",
    "    model = DecisionTreeClassifier()\n",
    "    models['CART'] = Pipeline(steps=[('feature_transform', transformer), ('m', model)])\n",
    "\n",
    "    # Random Forest\n",
    "    model = RandomForestClassifier()\n",
    "    models['RandomForest'] = Pipeline(steps=[('feature_transform', transformer), ('m', model)])\n",
    "\n",
    "    # Multilayer Perceptron\n",
    "    model = MLPClassifier(random_state=1, early_stopping=True)\n",
    "    models['MLP'] = Pipeline(steps=[('feature_transform', transformer), ('m', model)])\n",
    "\n",
    "    return models"
   ]
  },
  {
   "cell_type": "markdown",
   "id": "0e1d24e0",
   "metadata": {},
   "source": [
    "#### Evaluation: Cross Validation and Test Predictions"
   ]
  },
  {
   "cell_type": "code",
   "execution_count": 31,
   "id": "23960909",
   "metadata": {},
   "outputs": [],
   "source": [
    "from sklearn import metrics\n",
    "from sklearn.metrics import precision_recall_fscore_support\n",
    "from sklearn.model_selection import RepeatedStratifiedKFold, cross_validate\n",
    "\n",
    "def evaluate_model_predict(model, X, y, X_test, y_test):\n",
    "    \"\"\"\n",
    "    Performs the cross validation of the ML algorithms and returns the training,\n",
    "     validation scores, and test predictions.\n",
    "    \"\"\"\n",
    "    cv = RepeatedStratifiedKFold(n_splits=10, n_repeats=3, random_state=1)\n",
    "    model.fit(X, y)\n",
    "    # cross validation\n",
    "    scores = cross_validate(model, X, y, scoring=('accuracy', 'f1_weighted'),\n",
    "                            cv=cv, n_jobs=-1, return_train_score=True)\n",
    "    # test prediction from the trained ml model\n",
    "    y_test_pred = model.predict(X_test)\n",
    "\n",
    "    # test metrics like accuracy, precision, recall, f1-score\n",
    "    test_acc = metrics.accuracy_score(y_test_pred, y_test)\n",
    "    test_p, test_r, test_f1, _ = precision_recall_fscore_support(y_test, y_test_pred, average='weighted')\n",
    "\n",
    "    return scores, y_test_pred, test_acc, test_p, test_r, test_f1"
   ]
  },
  {
   "cell_type": "code",
   "execution_count": 32,
   "id": "86035026",
   "metadata": {},
   "outputs": [],
   "source": [
    "from numpy import mean, std\n",
    "from sklearn.metrics import ConfusionMatrixDisplay\n",
    "import time\n",
    "\n",
    "def batch_prediction(X_train, y_train, X_test, y_test, models):\n",
    "    \"\"\"\n",
    "    Finding the predictions for each model on the dataset by calling the evaluate_model()\n",
    "    \"\"\"\n",
    "    #  the models and store results\n",
    "    results, names = list(), list()\n",
    "    # test prediction list for all models\n",
    "    test_preds = []\n",
    "\n",
    "    for name, model in models.items():\n",
    "        t0 = time.time()\n",
    "        # prediction and evaluation scores for each model\n",
    "        scores, y_test_pred, test_acc, test_p, test_r, test_f1 = evaluate_model_predict(model, X_train, y_train,\n",
    "                                                                                X_test, y_test)\n",
    "        time2complete = time.time() - t0\n",
    "        print(\"Time to train and eval for the model %s is %.3f\"\n",
    "              % (name, time2complete))\n",
    "        # appending the test prediction of the respective model\n",
    "        test_preds.append((model, y_test_pred))\n",
    "        # appending the evaluation scores\n",
    "        results.append(scores)\n",
    "        # appending the names of the model\n",
    "        names.append(name)\n",
    "        # printing the training accuracy\n",
    "        print('Average Training accuracy for %s is %.3f (%.3f)'\n",
    "              % (name, mean(scores['train_accuracy'])*100,\n",
    "                 std(scores['train_accuracy'])))\n",
    "\n",
    "        # printing the validation accuracy\n",
    "        print('Average Validation accuracy for %s is %.3f (%.3f)'\n",
    "              % (name, mean(scores['test_accuracy'])*100,\n",
    "                 std(scores['test_accuracy'])))\n",
    "        # printing thr training F1-score\n",
    "        print('Average Training F1 score for %s is %.3f (%.3f)'\n",
    "              % (name, mean(scores['train_f1_weighted']),\n",
    "                 std(scores['train_f1_weighted'])))\n",
    "        # printing the validation F1-score\n",
    "        print('Average Validation F1-score for %s is %.3f (%.3f)'\n",
    "              % (name, mean(scores['test_f1_weighted']),\n",
    "                 std(scores['test_f1_weighted'])))\n",
    "        # printing the test accuracy of a model\n",
    "        print('Test accuracy for %s is %.3f' % (name, test_acc*100))\n",
    "        # printing the test precision of a model\n",
    "        print('Test Precision for %s is %f' % (name, test_p))\n",
    "        # printing the test recall of a model\n",
    "        print('Test Recall for %s is %.3f' % (name, test_r))\n",
    "        # printing the test F1-score of a model\n",
    "        print('Test F1-score for %s is %.3f' % (name, test_f1))\n",
    "        #metrics.plot_roc_curve(model, X_test, y_test)\n",
    "        #plt.show()\n",
    "        print(metrics.classification_report(y_test, y_test_pred))\n",
    "        cm = metrics.confusion_matrix(y_test, y_test_pred)\n",
    "        cm_display = ConfusionMatrixDisplay(cm).plot()\n",
    "        plt.show()\n",
    "        print('-------------------------------------------------')"
   ]
  },
  {
   "cell_type": "code",
   "execution_count": 35,
   "id": "6241a5a9",
   "metadata": {},
   "outputs": [
    {
     "name": "stdout",
     "output_type": "stream",
     "text": [
      "Index(['productgroup', 'main_text', 'add_text', 'merged_text'], dtype='object')\n",
      "Input dataframe shape (7998, 4)\n",
      "Time to train and eval for the model LR is 9.560\n",
      "Average Training accuracy for LR is 99.969 (0.000)\n",
      "Average Validation accuracy for LR is 99.755 (0.002)\n",
      "Average Training F1 score for LR is 1.000 (0.000)\n",
      "Average Validation F1-score for LR is 0.998 (0.002)\n",
      "Test accuracy for LR is 99.625\n",
      "Test Precision for LR is 0.996290\n",
      "Test Recall for LR is 0.996\n",
      "Test F1-score for LR is 0.996\n",
      "                 precision    recall  f1-score   support\n",
      "\n",
      "       BICYCLES       1.00      1.00      1.00       395\n",
      " CONTACT LENSES       1.00      0.99      1.00       378\n",
      "     USB MEMORY       1.00      0.99      1.00       430\n",
      "WASHINGMACHINES       0.99      1.00      0.99       397\n",
      "\n",
      "       accuracy                           1.00      1600\n",
      "      macro avg       1.00      1.00      1.00      1600\n",
      "   weighted avg       1.00      1.00      1.00      1600\n",
      "\n"
     ]
    },
    {
     "data": {
      "image/png": "[encoded data removed]",
      "text/plain": [
       "<Figure size 432x288 with 2 Axes>"
      ]
     },
     "metadata": {
      "needs_background": "light"
     },
     "output_type": "display_data"
    },
    {
     "name": "stdout",
     "output_type": "stream",
     "text": [
      "-------------------------------------------------\n",
      "Time to train and eval for the model MultiNaiveBayes is 2.827\n",
      "Average Training accuracy for MultiNaiveBayes is 100.000 (0.000)\n",
      "Average Validation accuracy for MultiNaiveBayes is 99.802 (0.002)\n",
      "Average Training F1 score for MultiNaiveBayes is 1.000 (0.000)\n",
      "Average Validation F1-score for MultiNaiveBayes is 0.998 (0.002)\n",
      "Test accuracy for MultiNaiveBayes is 99.688\n",
      "Test Precision for MultiNaiveBayes is 0.996877\n",
      "Test Recall for MultiNaiveBayes is 0.997\n",
      "Test F1-score for MultiNaiveBayes is 0.997\n",
      "                 precision    recall  f1-score   support\n",
      "\n",
      "       BICYCLES       1.00      1.00      1.00       395\n",
      " CONTACT LENSES       0.99      0.99      0.99       378\n",
      "     USB MEMORY       1.00      1.00      1.00       430\n",
      "WASHINGMACHINES       0.99      1.00      1.00       397\n",
      "\n",
      "       accuracy                           1.00      1600\n",
      "      macro avg       1.00      1.00      1.00      1600\n",
      "   weighted avg       1.00      1.00      1.00      1600\n",
      "\n"
     ]
    },
    {
     "data": {
      "image/png": "[encoded data removed]",
      "text/plain": [
       "<Figure size 432x288 with 2 Axes>"
      ]
     },
     "metadata": {
      "needs_background": "light"
     },
     "output_type": "display_data"
    },
    {
     "name": "stdout",
     "output_type": "stream",
     "text": [
      "-------------------------------------------------\n",
      "Time to train and eval for the model Perceptron is 2.845\n",
      "Average Training accuracy for Perceptron is 100.000 (0.000)\n",
      "Average Validation accuracy for Perceptron is 99.656 (0.003)\n",
      "Average Training F1 score for Perceptron is 1.000 (0.000)\n",
      "Average Validation F1-score for Perceptron is 0.997 (0.003)\n",
      "Test accuracy for Perceptron is 99.688\n",
      "Test Precision for Perceptron is 0.996895\n",
      "Test Recall for Perceptron is 0.997\n",
      "Test F1-score for Perceptron is 0.997\n",
      "                 precision    recall  f1-score   support\n",
      "\n",
      "       BICYCLES       1.00      1.00      1.00       395\n",
      " CONTACT LENSES       1.00      1.00      1.00       378\n",
      "     USB MEMORY       1.00      0.99      1.00       430\n",
      "WASHINGMACHINES       0.99      1.00      0.99       397\n",
      "\n",
      "       accuracy                           1.00      1600\n",
      "      macro avg       1.00      1.00      1.00      1600\n",
      "   weighted avg       1.00      1.00      1.00      1600\n",
      "\n"
     ]
    },
    {
     "data": {
      "image/png": "[encoded data removed]",
      "text/plain": [
       "<Figure size 432x288 with 2 Axes>"
      ]
     },
     "metadata": {
      "needs_background": "light"
     },
     "output_type": "display_data"
    },
    {
     "name": "stdout",
     "output_type": "stream",
     "text": [
      "-------------------------------------------------\n",
      "Time to train and eval for the model CART is 4.133\n",
      "Average Training accuracy for CART is 100.000 (0.000)\n",
      "Average Validation accuracy for CART is 98.369 (0.004)\n",
      "Average Training F1 score for CART is 1.000 (0.000)\n",
      "Average Validation F1-score for CART is 0.984 (0.004)\n",
      "Test accuracy for CART is 99.062\n",
      "Test Precision for CART is 0.990860\n",
      "Test Recall for CART is 0.991\n",
      "Test F1-score for CART is 0.991\n",
      "                 precision    recall  f1-score   support\n",
      "\n",
      "       BICYCLES       1.00      0.98      0.99       395\n",
      " CONTACT LENSES       0.99      0.99      0.99       378\n",
      "     USB MEMORY       1.00      0.99      0.99       430\n",
      "WASHINGMACHINES       0.97      1.00      0.98       397\n",
      "\n",
      "       accuracy                           0.99      1600\n",
      "      macro avg       0.99      0.99      0.99      1600\n",
      "   weighted avg       0.99      0.99      0.99      1600\n",
      "\n"
     ]
    },
    {
     "data": {
      "image/png": "[encoded data removed]",
      "text/plain": [
       "<Figure size 432x288 with 2 Axes>"
      ]
     },
     "metadata": {
      "needs_background": "light"
     },
     "output_type": "display_data"
    },
    {
     "name": "stdout",
     "output_type": "stream",
     "text": [
      "-------------------------------------------------\n",
      "Time to train and eval for the model RandomForest is 14.502\n",
      "Average Training accuracy for RandomForest is 100.000 (0.000)\n",
      "Average Validation accuracy for RandomForest is 99.406 (0.003)\n",
      "Average Training F1 score for RandomForest is 1.000 (0.000)\n",
      "Average Validation F1-score for RandomForest is 0.994 (0.003)\n",
      "Test accuracy for RandomForest is 99.500\n",
      "Test Precision for RandomForest is 0.995099\n",
      "Test Recall for RandomForest is 0.995\n",
      "Test F1-score for RandomForest is 0.995\n",
      "                 precision    recall  f1-score   support\n",
      "\n",
      "       BICYCLES       1.00      0.99      1.00       395\n",
      " CONTACT LENSES       1.00      1.00      1.00       378\n",
      "     USB MEMORY       1.00      0.99      1.00       430\n",
      "WASHINGMACHINES       0.98      1.00      0.99       397\n",
      "\n",
      "       accuracy                           0.99      1600\n",
      "      macro avg       1.00      1.00      1.00      1600\n",
      "   weighted avg       1.00      0.99      1.00      1600\n",
      "\n"
     ]
    },
    {
     "data": {
      "image/png": "[encoded data removed]",
      "text/plain": [
       "<Figure size 432x288 with 2 Axes>"
      ]
     },
     "metadata": {
      "needs_background": "light"
     },
     "output_type": "display_data"
    },
    {
     "name": "stdout",
     "output_type": "stream",
     "text": [
      "-------------------------------------------------\n",
      "Time to train and eval for the model MLP is 174.814\n",
      "Average Training accuracy for MLP is 99.969 (0.000)\n",
      "Average Validation accuracy for MLP is 99.812 (0.002)\n",
      "Average Training F1 score for MLP is 1.000 (0.000)\n",
      "Average Validation F1-score for MLP is 0.998 (0.002)\n",
      "Test accuracy for MLP is 99.812\n",
      "Test Precision for MLP is 0.998127\n",
      "Test Recall for MLP is 0.998\n",
      "Test F1-score for MLP is 0.998\n",
      "                 precision    recall  f1-score   support\n",
      "\n",
      "       BICYCLES       1.00      1.00      1.00       395\n",
      " CONTACT LENSES       1.00      1.00      1.00       378\n",
      "     USB MEMORY       1.00      1.00      1.00       430\n",
      "WASHINGMACHINES       0.99      1.00      1.00       397\n",
      "\n",
      "       accuracy                           1.00      1600\n",
      "      macro avg       1.00      1.00      1.00      1600\n",
      "   weighted avg       1.00      1.00      1.00      1600\n",
      "\n"
     ]
    },
    {
     "data": {
      "image/png": "[encoded data removed]",
      "text/plain": [
       "<Figure size 432x288 with 2 Axes>"
      ]
     },
     "metadata": {
      "needs_background": "light"
     },
     "output_type": "display_data"
    },
    {
     "name": "stdout",
     "output_type": "stream",
     "text": [
      "-------------------------------------------------\n"
     ]
    }
   ],
   "source": [
    "def main():\n",
    "    input_data = load_data('../../data/testset_C.csv', delimiter=';')\n",
    "    X_train, y_train, X_test, y_test = preprocess_dataset(input_data)\n",
    "    # getting all the implemented ml models\n",
    "    models = get_ml_models()\n",
    "    # getting the predictions for both the training and testing datasets\n",
    "    batch_prediction(X_train, y_train, X_test, y_test, models)\n",
    "\n",
    "\n",
    "if __name__ == \"__main__\":\n",
    "    main()"
   ]
  },
  {
   "cell_type": "markdown",
   "id": "749f4058",
   "metadata": {},
   "source": [
    "| Model               | Training Accuracy | Validation Accuracy | Test Accuracy | Test Precision | Test Recall | Test F1-Score | Training F1-score | Validation F1-score | Time to train and evaluate |\n",
    "|---------------------|-------------------|---------------------|---------------|----------------|-------------|---------------|-------------------|---------------------|------------|\n",
    "| Logistic Regression | 99.969            | 99.755              | 99.625        | 0.99629       | 0.996       | 0.996         | 1.0             | 0.998 | 9.157\n",
    "| Multinomial Naive Bayes | 100            | 99.802              | 99.688        | 0.996877       | 0.997       | 0.997         | 1.0             | 0.998 | 2.981 \n",
    "| Perceptron  |  100       | 99.656            | 99.688              | 0.996895        | 0.997       | 0.997       | 1.0   | 0.997 | 3.320\n",
    "| CART                | 100           | 98.296              | 99.125        | 0.991449       | 0.991       | 0.991         | 1.000             | 0.983 | 4.917 |\n",
    "| Random Forest | 100           | 99.380              | 99.500        | 0.995099       | 0.995       | 0.995         | 1.000             | 0.994 | 14.784 \n",
    "| MLP                 | 99.969            | **99.812**              | **99.812**        | 0.998127       | 0.998       | **0.998**         | 1.0             | **0.998** | 165.513 "
   ]
  },
  {
   "cell_type": "markdown",
   "id": "da46dae4",
   "metadata": {},
   "source": [
    "We propose MLP model as the best model. We observed that the decision tree (CART) has resulted in the lowest test accuracy and test f1-score among all the models and it also seems like its going to overfit slightly on the data due to higher training accuracy than the test and the validation accuracy respectively. We see that all the classifiers have worked pretty well mostly due to the quality of data as the 4 labels are almost equally balanced throughout the dataset."
   ]
  }
 ],
 "metadata": {
  "kernelspec": {
   "display_name": "Python 3 (ipykernel)",
   "language": "python",
   "name": "python3"
  },
  "language_info": {
   "codemirror_mode": {
    "name": "ipython",
    "version": 3
   },
   "file_extension": ".py",
   "mimetype": "text/x-python",
   "name": "python",
   "nbconvert_exporter": "python",
   "pygments_lexer": "ipython3",
   "version": "3.9.7"
  }
 },
 "nbformat": 4,
 "nbformat_minor": 5
}
